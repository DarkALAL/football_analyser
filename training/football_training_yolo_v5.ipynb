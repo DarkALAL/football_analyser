{
 "cells": [
  {
   "cell_type": "code",
   "execution_count": null,
   "metadata": {
    "colab": {
     "base_uri": "https://localhost:8080/"
    },
    "executionInfo": {
     "elapsed": 9534,
     "status": "ok",
     "timestamp": 1736951501062,
     "user": {
      "displayName": "Dark ALAL",
      "userId": "07049712268703334486"
     },
     "user_tz": -330
    },
    "id": "CHEWKOzhbJ7S",
    "outputId": "b8abce28-d89f-43ff-85b8-c391a808918e"
   },
   "outputs": [],
   "source": [
    "!pip install ultralytics\n",
    "!pip install roboflow"
   ]
  },
  {
   "cell_type": "code",
   "execution_count": null,
   "metadata": {
    "colab": {
     "base_uri": "https://localhost:8080/"
    },
    "executionInfo": {
     "elapsed": 15170,
     "status": "ok",
     "timestamp": 1736951521408,
     "user": {
      "displayName": "Dark ALAL",
      "userId": "07049712268703334486"
     },
     "user_tz": -330
    },
    "id": "_F8GjHbfbJ7T",
    "outputId": "05c68654-d341-43cd-bb1a-ca75d1069df6"
   },
   "outputs": [],
   "source": [
    "\n",
    "from roboflow import Roboflow\n",
    "rf = Roboflow(api_key=\"IXWc37PxEIkyVCyMtWah\")\n",
    "project = rf.workspace(\"roboflow-jvuqo\").project(\"football-players-detection-3zvbc\")\n",
    "version = project.version(1)\n",
    "dataset = version.download(\"yolov5\")\n"
   ]
  },
  {
   "cell_type": "code",
   "execution_count": null,
   "metadata": {
    "colab": {
     "base_uri": "https://localhost:8080/",
     "height": 35
    },
    "executionInfo": {
     "elapsed": 581,
     "status": "ok",
     "timestamp": 1736951529379,
     "user": {
      "displayName": "Dark ALAL",
      "userId": "07049712268703334486"
     },
     "user_tz": -330
    },
    "id": "LOI2U9WxbJ7T",
    "outputId": "c40a32cf-49f7-4405-d364-f249cf3ef1be"
   },
   "outputs": [],
   "source": [
    "import shutil\n",
    "\n",
    "shutil.move('football-players-detection-1/train',\n",
    "            'football-players-detection-1/football-players-detection-1/train'\n",
    "            )\n",
    "\n",
    "shutil.move('football-players-detection-1/test',\n",
    "            'football-players-detection-1/football-players-detection-1/test'\n",
    "            )\n",
    "\n",
    "shutil.move('football-players-detection-1/valid',\n",
    "            'football-players-detection-1/football-players-detection-1/valid'\n",
    "            )"
   ]
  },
  {
   "cell_type": "code",
   "execution_count": null,
   "metadata": {
    "colab": {
     "base_uri": "https://localhost:8080/"
    },
    "executionInfo": {
     "elapsed": 7068468,
     "status": "ok",
     "timestamp": 1736958605821,
     "user": {
      "displayName": "Dark ALAL",
      "userId": "07049712268703334486"
     },
     "user_tz": -330
    },
    "id": "bjWlu922bJ7U",
    "outputId": "c0a98812-16c2-4ff7-f798-8e087c47ef17"
   },
   "outputs": [],
   "source": [
    "!yolo task=detect mode=train model=yolov5xu.pt data={dataset.location}/data.yaml epochs=100 imgsz=640"
   ]
  },
  {
   "cell_type": "markdown",
   "metadata": {
    "id": "8XpW6XMpBCtu"
   },
   "source": []
  }
 ],
 "metadata": {
  "accelerator": "GPU",
  "colab": {
   "gpuType": "T4",
   "provenance": []
  },
  "kernelspec": {
   "display_name": ".venv (3.12.3)",
   "language": "python",
   "name": "python3"
  },
  "language_info": {
   "codemirror_mode": {
    "name": "ipython",
    "version": 3
   },
   "file_extension": ".py",
   "mimetype": "text/x-python",
   "name": "python",
   "nbconvert_exporter": "python",
   "pygments_lexer": "ipython3",
   "version": "3.12.3"
  }
 },
 "nbformat": 4,
 "nbformat_minor": 0
}
